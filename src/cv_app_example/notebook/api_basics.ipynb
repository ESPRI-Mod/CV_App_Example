{
 "cells": [
  {
   "cell_type": "code",
   "execution_count": 1,
   "id": "dc98594a-6bd4-447c-9264-a11cc9300076",
   "metadata": {},
   "outputs": [],
   "source": [
    "import requests\n",
    "def get(param):\n",
    "    # Define the API endpoint URL\n",
    "    url = 'http://es-vocab.ipsl.fr/'\n",
    "\n",
    "    try:\n",
    "        # Make a GET request to the API endpoint using requests.get()\n",
    "        response = requests.get(url+param, headers = {'accept': 'application/json'}, verify=False)\n",
    "\n",
    "        # Check if the request waµs successful (status code 200)\n",
    "        if response.status_code == 200:\n",
    "            posts = response.json()\n",
    "            return posts\n",
    "        else:\n",
    "            \n",
    "            print('Error:', response.status_code)\n",
    "            return None\n",
    "            \n",
    "    except Exception as e:\n",
    "        print(e)"
   ]
  },
  {
   "cell_type": "markdown",
   "id": "8ace614c-b720-449e-94b5-1ead110fa589",
   "metadata": {},
   "source": [
    "# Exploring the CV Universe : "
   ]
  },
  {
   "cell_type": "markdown",
   "id": "a5d094aa-a913-4175-86f4-d52e2b10ae72",
   "metadata": {},
   "source": [
    "## Datadescriptor "
   ]
  },
  {
   "cell_type": "code",
   "execution_count": 2,
   "id": "4047cd08-9959-473c-b385-ae3d47808704",
   "metadata": {},
   "outputs": [
    {
     "data": {
      "text/plain": [
       "['forcing_index',\n",
       " 'initialization_index',\n",
       " 'institution',\n",
       " 'physic_index',\n",
       " 'realization_index',\n",
       " 'variant_label']"
      ]
     },
     "execution_count": 2,
     "metadata": {},
     "output_type": "execute_result"
    }
   ],
   "source": [
    "DD_names = get(\"api/universe/datadescriptor\")\n",
    "DD_names\n"
   ]
  },
  {
   "cell_type": "code",
   "execution_count": 3,
   "id": "05a27a47-4af7-4ea6-8504-8b8401b7674a",
   "metadata": {},
   "outputs": [
    {
     "name": "stdout",
     "output_type": "stream",
     "text": [
      "None\n",
      "None\n",
      "None\n",
      "None\n",
      "None\n",
      "None\n"
     ]
    }
   ],
   "source": [
    "for dd in DD_names:\n",
    "    print(get(\"api/universe/datadescriptor/\"+dd))"
   ]
  },
  {
   "cell_type": "markdown",
   "id": "c07fdfa8-380d-4ef0-a0f0-deb520d4f36a",
   "metadata": {},
   "source": [
    "## Terms "
   ]
  },
  {
   "cell_type": "code",
   "execution_count": 4,
   "id": "340c15c3-bbed-47e2-886a-c8bbd150ed93",
   "metadata": {},
   "outputs": [
    {
     "name": "stdout",
     "output_type": "stream",
     "text": [
      "[{'id': 'multiple_digit', 'validation_method': 'regex', 'regex': '^f\\\\d*$', 'description': None}, {'id': 'forcing_index:one_digit', 'validation_method': 'regex', 'regex': '^f\\\\d$', 'description': None}]\n",
      "[{'id': 'initialization_index:one_digit', 'validation_method': 'regex', 'regex': '^i\\\\d$', 'description': None}]\n",
      "[{'id': 'dkrz', 'validation_method': 'list', 'acronyms': ['DKRZ'], 'aliases': [], 'established': 1987, 'type': 'Facility', 'labels': [], 'location': {'id': '03ztgj037', 'lat': 53.55073, 'lon': 9.99302, 'city': 'Hamburg', 'country': ['Germany', 'DE']}, 'name': 'German Climate Computing Centre', 'rorIdentifier': '03ztgj037', 'cmip_acronym': 'DKRZ', 'url': ['https://www.dkrz.de/']}, {'id': 'ipsl', 'validation_method': 'list', 'acronyms': ['IPSL'], 'aliases': ['Ipsl'], 'established': 1991, 'type': 'Facility', 'labels': [], 'location': {'id': '02haar591', 'lat': 48.855675, 'lon': 2.332105, 'city': 'Paris', 'country': ['France', 'FR']}, 'name': 'Institut Pierre-Simon Laplace', 'rorIdentifier': '02haar591', 'cmip_acronym': 'IPSL', 'url': ['https://www.ipsl.fr/en/']}, {'id': 'llnl', 'validation_method': 'list', 'acronyms': ['LLNL', 'LLL'], 'aliases': ['United States Department of Energy National Nuclear Security Administration Lawrence Livermore National Laboratory', 'U.S. Department of Energy National Nuclear Security Administration Los Alamos National Laboratory', 'United States Department of Energy Los Alamos National Laboratory', 'U.S. Department of Energy Los Alamos National Laboratory'], 'established': 1952, 'type': 'Facility', 'labels': [], 'location': {'id': '041nk4h53', 'lat': 37.68187, 'lon': -121.76801, 'city': 'Livermore', 'country': ['United States', 'US'], 'type': 'location'}, 'name': 'Lawrence Livermore National Laboratory', 'rorIdentifier': '041nk4h53', 'cmip_acronym': 'LLNL', 'url': ['https://www.llnl.gov/']}]\n",
      "[{'id': 'physic_index:one_digit', 'validation_method': 'regex', 'regex': '^p\\\\d$', 'description': None}]\n",
      "[{'id': 'realization_index:one_digit', 'validation_method': 'regex', 'regex': '^r\\\\d$', 'description': None}, {'id': 'run', 'validation_method': 'regex', 'regex': '^run\\\\d$', 'description': None}]\n",
      "[{'id': 'rip', 'validation_method': 'composite', 'separator': '', 'parts': [{'is_required': True, 'id': 'realization_index:one_digit'}, {'is_required': True, 'id': 'initialization_index:one_digit'}, {'is_required': True, 'id': 'physic_index:one_digit'}], 'description': 'TODO IMPROVE THIS'}, {'id': 'ripf', 'validation_method': 'composite', 'separator': '', 'parts': [{'is_required': True, 'id': 'realization_index:one_digit'}, {'is_required': True, 'id': 'initialization_index:one_digit'}, {'is_required': True, 'id': 'physic_index:one_digit'}, {'is_required': True, 'id': 'forcing_index:multiple_digit'}], 'description': 'TODO IMPROVE THIS'}, {'id': 'run', 'validation_method': 'composite', 'separator': '', 'parts': [{'is_required': True, 'id': 'realization:run'}], 'description': 'TODO IMPROVE THIS'}]\n"
     ]
    }
   ],
   "source": [
    "for dd in DD_names:\n",
    "    terms = get(\"api/universe/datadescriptor/\"+dd+\"/term\")\n",
    "    print(terms)"
   ]
  },
  {
   "cell_type": "code",
   "execution_count": 5,
   "id": "42747145-e658-4b5f-8df7-bd9f9e160067",
   "metadata": {},
   "outputs": [
    {
     "name": "stdout",
     "output_type": "stream",
     "text": [
      "\n",
      "forcing_index      {'id': 'multiple_digit', 'validation_method': 'regex', 'regex': '^f\\\\d*$', 'description': None}\n",
      "forcing_index      {'id': 'forcing_index:one_digit', 'validation_method': 'regex', 'regex': '^f\\\\d$', 'description': None}\n",
      "\n",
      "initialization_index      {'id': 'initialization_index:one_digit', 'validation_method': 'regex', 'regex': '^i\\\\d$', 'description': None}\n",
      "\n",
      "institution      {'id': 'dkrz', 'validation_method': 'list', 'acronyms': ['DKRZ'], 'aliases': [], 'established': 1987, 'type': 'Facility', 'labels': [], 'location': {'id': '03ztgj037', 'lat': 53.55073, 'lon': 9.99302, 'city': 'Hamburg', 'country': ['Germany', 'DE']}, 'name': 'German Climate Computing Centre', 'rorIdentifier': '03ztgj037', 'cmip_acronym': 'DKRZ', 'url': ['https://www.dkrz.de/']}\n",
      "institution      {'id': 'ipsl', 'validation_method': 'list', 'acronyms': ['IPSL'], 'aliases': ['Ipsl'], 'established': 1991, 'type': 'Facility', 'labels': [], 'location': {'id': '02haar591', 'lat': 48.855675, 'lon': 2.332105, 'city': 'Paris', 'country': ['France', 'FR']}, 'name': 'Institut Pierre-Simon Laplace', 'rorIdentifier': '02haar591', 'cmip_acronym': 'IPSL', 'url': ['https://www.ipsl.fr/en/']}\n",
      "institution      {'id': 'llnl', 'validation_method': 'list', 'acronyms': ['LLNL', 'LLL'], 'aliases': ['United States Department of Energy National Nuclear Security Administration Lawrence Livermore National Laboratory', 'U.S. Department of Energy National Nuclear Security Administration Los Alamos National Laboratory', 'United States Department of Energy Los Alamos National Laboratory', 'U.S. Department of Energy Los Alamos National Laboratory'], 'established': 1952, 'type': 'Facility', 'labels': [], 'location': {'id': '041nk4h53', 'lat': 37.68187, 'lon': -121.76801, 'city': 'Livermore', 'country': ['United States', 'US'], 'type': 'location'}, 'name': 'Lawrence Livermore National Laboratory', 'rorIdentifier': '041nk4h53', 'cmip_acronym': 'LLNL', 'url': ['https://www.llnl.gov/']}\n",
      "\n",
      "physic_index      {'id': 'physic_index:one_digit', 'validation_method': 'regex', 'regex': '^p\\\\d$', 'description': None}\n",
      "\n",
      "realization_index      {'id': 'realization_index:one_digit', 'validation_method': 'regex', 'regex': '^r\\\\d$', 'description': None}\n",
      "realization_index      {'id': 'run', 'validation_method': 'regex', 'regex': '^run\\\\d$', 'description': None}\n",
      "\n",
      "variant_label      {'id': 'rip', 'validation_method': 'composite', 'separator': '', 'parts': [{'is_required': True, 'id': 'realization_index:one_digit'}, {'is_required': True, 'id': 'initialization_index:one_digit'}, {'is_required': True, 'id': 'physic_index:one_digit'}], 'description': 'TODO IMPROVE THIS'}\n",
      "variant_label      {'id': 'ripf', 'validation_method': 'composite', 'separator': '', 'parts': [{'is_required': True, 'id': 'realization_index:one_digit'}, {'is_required': True, 'id': 'initialization_index:one_digit'}, {'is_required': True, 'id': 'physic_index:one_digit'}, {'is_required': True, 'id': 'forcing_index:multiple_digit'}], 'description': 'TODO IMPROVE THIS'}\n",
      "variant_label      {'id': 'run', 'validation_method': 'composite', 'separator': '', 'parts': [{'is_required': True, 'id': 'realization:run'}], 'description': 'TODO IMPROVE THIS'}\n"
     ]
    }
   ],
   "source": [
    "for dd in DD_names:\n",
    "    print(\"\")\n",
    "    terms = get(\"api/universe/datadescriptor/\"+dd+\"/term\")\n",
    "    for term in terms:\n",
    "        t = get(\"api/universe/datadescriptor/\"+dd+\"/term/\"+term['id'])\n",
    "        print(dd,\"    \",t)\n",
    "    "
   ]
  },
  {
   "cell_type": "markdown",
   "id": "f5092179-afe5-4771-b4af-ab45f4e14247",
   "metadata": {},
   "source": [
    "# Exploring known projects "
   ]
  },
  {
   "cell_type": "code",
   "execution_count": 19,
   "id": "d624b341-6554-4337-82e3-fa1df142fe1c",
   "metadata": {},
   "outputs": [
    {
     "data": {
      "text/plain": [
       "['CMIP6Plus_CVs']"
      ]
     },
     "execution_count": 19,
     "metadata": {},
     "output_type": "execute_result"
    }
   ],
   "source": [
    "known_projects = get(\"api/project\")\n",
    "known_projects"
   ]
  },
  {
   "cell_type": "code",
   "execution_count": null,
   "id": "9ae8aade-bb9d-4e59-8f91-a52497730428",
   "metadata": {},
   "outputs": [],
   "source": []
  },
  {
   "cell_type": "code",
   "execution_count": 20,
   "id": "24137338-8b1d-45de-aa74-c4d520a331e4",
   "metadata": {},
   "outputs": [
    {
     "name": "stdout",
     "output_type": "stream",
     "text": [
      "None\n"
     ]
    }
   ],
   "source": [
    "for proj in known_projects:\n",
    "    print(get(\"api/project/\"+proj))"
   ]
  },
  {
   "cell_type": "code",
   "execution_count": 8,
   "id": "4161d4e9-ecf2-44c2-a43e-5ca2ff830ded",
   "metadata": {},
   "outputs": [
    {
     "data": {
      "text/plain": [
       "['institution_id', 'member_id']"
      ]
     },
     "execution_count": 8,
     "metadata": {},
     "output_type": "execute_result"
    }
   ],
   "source": [
    "col_names = get(\"api/project/CMIP6Plus_CVs/collection\")\n",
    "col_names"
   ]
  },
  {
   "cell_type": "code",
   "execution_count": 9,
   "id": "3a0ec5ae-ab69-4c03-b87b-51d001a5dce5",
   "metadata": {},
   "outputs": [
    {
     "name": "stdout",
     "output_type": "stream",
     "text": [
      "None\n",
      "None\n"
     ]
    }
   ],
   "source": [
    "for col in col_names:\n",
    "    print(get(\"api/project/CMIP6Plus_CVs/collection/\"+col))"
   ]
  },
  {
   "cell_type": "code",
   "execution_count": 10,
   "id": "280da37a-cdcc-4bdd-bd65-c9daae7c40b8",
   "metadata": {},
   "outputs": [
    {
     "name": "stdout",
     "output_type": "stream",
     "text": [
      "institution_id     ['ipsl', 'llnl']\n",
      "member_id     ['ripf']\n"
     ]
    }
   ],
   "source": [
    "for col in col_names:\n",
    "    print(col,\"   \",get(\"api/project/CMIP6Plus_CVs/collection/\"+col+\"/term\"))"
   ]
  },
  {
   "cell_type": "code",
   "execution_count": 11,
   "id": "1dfe07b5-ee9c-45a6-bbda-600d8d43811f",
   "metadata": {},
   "outputs": [
    {
     "name": "stdout",
     "output_type": "stream",
     "text": [
      "institution_id    {'id': 'ipsl', 'validation_method': 'list', 'acronyms': ['IPSL'], 'aliases': ['Ipsl'], 'established': 1991, 'type': 'Facility', 'labels': [], 'location': {'city': 'Paris5'}, 'name': 'Institut Pierre-Simon Laplace modified', 'rorIdentifier': '02haar591', 'cmip_acronym': 'IPSL', 'url': ['https://www.ipsl.fr/en/'], 'myprop': '42'}\n",
      "institution_id    {'id': 'llnl', 'validation_method': 'list', 'acronyms': ['LLNL', 'LLL'], 'aliases': ['United States Department of Energy National Nuclear Security Administration Lawrence Livermore National Laboratory', 'U.S. Department of Energy National Nuclear Security Administration Los Alamos National Laboratory', 'United States Department of Energy Los Alamos National Laboratory', 'U.S. Department of Energy Los Alamos National Laboratory'], 'established': 1952, 'type': 'Facility', 'labels': [], 'location': {'id': '041nk4h53', 'lat': 37.68187, 'lon': -121.76801, 'city': 'Livermore', 'country': ['United States', 'US'], 'type': 'location'}, 'name': 'Lawrence Livermore National Laboratory', 'rorIdentifier': '041nk4h53', 'cmip_acronym': 'LLNL', 'url': ['https://www.llnl.gov/']}\n",
      "member_id    {'id': 'ripf', 'validation_method': 'composite', 'separator': '', 'parts': [{'is_required': True, 'id': 'realization_index:one_digit'}, {'is_required': True, 'id': 'initialization_index:one_digit'}, {'is_required': True, 'id': 'physic_index:one_digit'}, {'is_required': True, 'id': 'forcing_index:multiple_digit'}], 'description': 'TODO IMPROVE THIS'}\n"
     ]
    }
   ],
   "source": [
    "for col in col_names:\n",
    "    term_ids = get(\"api/project/CMIP6Plus_CVs/collection/\"+col+\"/term\")\n",
    "    for term in term_ids:\n",
    "        t = get(\"api/project/CMIP6Plus_CVs/collection/\"+col+\"/term/\"+term)\n",
    "        print(col,\"  \",t)\n",
    "    "
   ]
  },
  {
   "cell_type": "markdown",
   "id": "cfa3a914-1f5f-4f3d-b45f-6d340a2ee015",
   "metadata": {},
   "source": [
    "# Some shortcuts "
   ]
  },
  {
   "cell_type": "code",
   "execution_count": 12,
   "id": "781f0f30-ec73-4e63-ace9-4b8dd897bacc",
   "metadata": {},
   "outputs": [
    {
     "name": "stdout",
     "output_type": "stream",
     "text": [
      "{'id': 'ipsl', 'validation_method': 'list', 'acronyms': ['IPSL'], 'aliases': ['Ipsl'], 'established': 1991, 'type': 'Facility', 'labels': [], 'location': {'id': '02haar591', 'lat': 48.855675, 'lon': 2.332105, 'city': 'Paris', 'country': ['France', 'FR']}, 'name': 'Institut Pierre-Simon Laplace', 'rorIdentifier': '02haar591', 'cmip_acronym': 'IPSL', 'url': ['https://www.ipsl.fr/en/']}\n",
      "[{'term': {'id': 'ipsl', 'validation_method': 'list', 'acronyms': ['IPSL'], 'aliases': ['Ipsl'], 'established': 1991, 'type': 'Facility', 'labels': [], 'location': {'id': '02haar591', 'lat': 48.855675, 'lon': 2.332105, 'city': 'Paris', 'country': ['France', 'FR']}, 'name': 'Institut Pierre-Simon Laplace', 'rorIdentifier': '02haar591', 'cmip_acronym': 'IPSL', 'url': ['https://www.ipsl.fr/en/']}, 'path': '/universe/datadescriptor/institution/term/ipsl'}]\n"
     ]
    }
   ],
   "source": [
    "print(get(\"api/universe/datadescriptor/institution/term/ipsl\"))\n",
    "print(get(\"api/universe/term/ipsl\"))"
   ]
  },
  {
   "cell_type": "code",
   "execution_count": 13,
   "id": "fcba8dbc-f706-487e-9f93-91bfbb50a33e",
   "metadata": {},
   "outputs": [
    {
     "name": "stdout",
     "output_type": "stream",
     "text": [
      "{'id': 'ipsl', 'validation_method': 'list', 'acronyms': ['IPSL'], 'aliases': ['Ipsl'], 'established': 1991, 'type': 'Facility', 'labels': [], 'location': {'city': 'Paris5'}, 'name': 'Institut Pierre-Simon Laplace modified', 'rorIdentifier': '02haar591', 'cmip_acronym': 'IPSL', 'url': ['https://www.ipsl.fr/en/'], 'myprop': '42'}\n",
      "\n",
      "{'id': 'ipsl', 'validation_method': 'list', 'acronyms': ['IPSL'], 'aliases': ['Ipsl'], 'established': 1991, 'type': 'Facility', 'labels': [], 'location': {'city': 'Paris5'}, 'name': 'Institut Pierre-Simon Laplace modified', 'rorIdentifier': '02haar591', 'cmip_acronym': 'IPSL', 'url': ['https://www.ipsl.fr/en/'], 'myprop': '42'}\n"
     ]
    }
   ],
   "source": [
    "print(get(\"api/project/CMIP6Plus_CVs/collection/\"+\"institution_id\"+\"/term/\"+\"ipsl\"))\n",
    "print(\"\")\n",
    "print(get(\"api/project/term/ipsl\")[0][\"term\"]) # WHY [0][\"term\"] ???? "
   ]
  },
  {
   "cell_type": "markdown",
   "id": "b3e77654-f1a8-4d60-a32c-3ecb62c6c687",
   "metadata": {},
   "source": [
    "# Explore all (Universe and projects) in one call  "
   ]
  },
  {
   "cell_type": "code",
   "execution_count": 14,
   "id": "9bd002ec-f2d2-43f7-ac06-3e671941c5f0",
   "metadata": {},
   "outputs": [
    {
     "name": "stdout",
     "output_type": "stream",
     "text": [
      "/universe/datadescriptor/institution/term/ipsl\n",
      "   {'term': {'id': 'ipsl', 'validation_method': 'list', 'acronyms': ['IPSL'], 'aliases': ['Ipsl'], 'established': 1991, 'type': 'Facility', 'labels': [], 'location': {'id': '02haar591', 'lat': 48.855675, 'lon': 2.332105, 'city': 'Paris', 'country': ['France', 'FR']}, 'name': 'Institut Pierre-Simon Laplace', 'rorIdentifier': '02haar591', 'cmip_acronym': 'IPSL', 'url': ['https://www.ipsl.fr/en/']}, 'path': '/universe/datadescriptor/institution/term/ipsl'}\n",
      "/project/CMIP6Plus_CVs/collection/institution_id/term/ipsl\n",
      "   {'term': {'id': 'ipsl', 'validation_method': 'list', 'acronyms': ['IPSL'], 'aliases': ['Ipsl'], 'established': 1991, 'type': 'Facility', 'labels': [], 'location': {'city': 'Paris5'}, 'name': 'Institut Pierre-Simon Laplace modified', 'rorIdentifier': '02haar591', 'cmip_acronym': 'IPSL', 'url': ['https://www.ipsl.fr/en/'], 'myprop': '42'}, 'path': '/project/CMIP6Plus_CVs/collection/institution_id/term/ipsl'}\n"
     ]
    }
   ],
   "source": [
    "ipsl_insts = get(\"api/term/\"+\"ipsl\")\n",
    "for inst in ipsl_insts:\n",
    "    print(inst[\"path\"])\n",
    "    print( \"  \", inst)"
   ]
  },
  {
   "cell_type": "code",
   "execution_count": 15,
   "id": "7e90cfb0-e5c8-4601-8a95-8931f557b0ab",
   "metadata": {},
   "outputs": [
    {
     "data": {
      "text/plain": [
       "[{'collection_id': 'institution_id',\n",
       "  'path': '/project/CMIP6Plus_CVs/collection/institution_id'}]"
      ]
     },
     "execution_count": 15,
     "metadata": {},
     "output_type": "execute_result"
    }
   ],
   "source": [
    "get(\"api/collection/institution_id\")"
   ]
  },
  {
   "cell_type": "markdown",
   "id": "a480882e-8e1c-4974-8135-ce5649bfe206",
   "metadata": {},
   "source": []
  },
  {
   "cell_type": "code",
   "execution_count": null,
   "id": "5eb054e3-b89f-4b02-923d-c1c0f06b5582",
   "metadata": {},
   "outputs": [],
   "source": []
  },
  {
   "cell_type": "code",
   "execution_count": null,
   "id": "b067e19a-e529-4790-8c2e-1c08dee00684",
   "metadata": {},
   "outputs": [],
   "source": []
  }
 ],
 "metadata": {
  "kernelspec": {
   "display_name": "Python 3",
   "language": "python",
   "name": "python3"
  },
  "language_info": {
   "codemirror_mode": {
    "name": "ipython",
    "version": 3
   },
   "file_extension": ".py",
   "mimetype": "text/x-python",
   "name": "python",
   "nbconvert_exporter": "python",
   "pygments_lexer": "ipython3",
   "version": "3.11.7"
  }
 },
 "nbformat": 4,
 "nbformat_minor": 5
}
